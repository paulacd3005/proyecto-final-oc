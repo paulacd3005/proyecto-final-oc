{
 "cells": [
  {
   "attachments": {},
   "cell_type": "markdown",
   "metadata": {},
   "source": [
    "# Proyecto Final \n",
    "\n",
    "### Integrantes:\n",
    "\n",
    "- Paula Campaña Donoso: 00215572\n",
    "- Nicolas Moina: 00321192\n",
    "- Alex Perez: 00329229\n",
    "- Sebastian Navarro: 00321588"
   ]
  },
  {
   "attachments": {},
   "cell_type": "markdown",
   "metadata": {},
   "source": [
    "# Introducción\n"
   ]
  }
 ],
 "metadata": {
  "language_info": {
   "name": "python"
  },
  "orig_nbformat": 4
 },
 "nbformat": 4,
 "nbformat_minor": 2
}
