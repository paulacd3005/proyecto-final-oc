{
 "cells": [
  {
   "attachments": {},
   "cell_type": "markdown",
   "metadata": {},
   "source": [
    "# Proyecto Final \n",
    "\n",
    "### Integrantes:\n",
    "\n",
    "- Paula Campaña Donoso: 00215572\n",
    "- Nicolas Moina: 00321192\n",
    "- Alex Perez: 00329229\n",
    "- Sebastian Navarro: 00321588"
   ]
  },
  {
   "attachments": {},
   "cell_type": "markdown",
   "metadata": {},
   "source": [
    "### Introducción\n",
    "\n",
    "El objetivo del proyecto es implementar una estructura de datos conocida como Hash maps para el conteo de letras en un estracto de texto, con el fin de desarrollar una solución eficiente y escalable para el análisis de texto y la frecuencia de las letras. Para lograr esto, se utilizará un programa de ensamblador en el lenguaje MIPS para implementar un Hash map, una estructura de datos que permitirá realizar la clasificación y el conteo de las letras de manera rápida y eficiente donde la clave será la letra y el valor la frecuencia.\n",
    "\n",
    "Se realizarán pruebas exhaustivas para asegurar la correcta funcionalidad del Hash map en diferentes escenarios. El resultado final del proyecto será un programa de ensamblador MIPS que implemente un Hash map eficiente para el conteo de palabras en una estracto de texto. Esta implementación proporcionará una herramienta útil y eficiente para el análisis de texto."
   ]
  },
  {
   "attachments": {},
   "cell_type": "markdown",
   "metadata": {},
   "source": [
    "### Codigo en Assembly\n"
   ]
  },
  {
   "attachments": {},
   "cell_type": "markdown",
   "metadata": {},
   "source": [
    "### Conclusion \n",
    "\n",
    "Una vez terminado el proyecto, podemos concluir que el lenguaje assembly es un lenguaje en el cual se debe de ser bastante minucioso y cuidadoso con los detalles, ya que un error en el código puede causar que el programa no funcione correctamente. Además, el lenguaje assembly es un lenguaje que requiere de bastante tiempo para poder entenderlo y poder programar en el, ya que es un lenguaje que no es tan intuitivo como otros lenguajes de programación. Por otro lado, el lenguaje assembly es un lenguaje que permite tener un control total sobre el hardware, lo cual es muy útil para poder realizar programas que requieran de un control total sobre el hardware.\n",
    "\n",
    "Nuestro proyecto se enfoco en la aplicacion de un hash map el cual nos permitio trabajar en distintas areas como por ejemplo: eficiente de almacenamiento, optimizacion de tiempo de acceso y comprension de las estructuras de datos. \n",
    "\n",
    "En la eficiencia de almacenamiento se pudo observar que el hash map nos permite almacenar y organizar eficientemente grandes conjuntos de datos utilizando tecnicas de hashing. Un hash map permite acceder rapidamente a los valores almacenados a traves de claves unicas, lo que puede resultar en una mejora significativa en el rendimiento y la eficiencia en comparacion con otras estructuras de datos.\n",
    "\n",
    "Por otro lado en la optimizacion de tiempo de acceso se pudo observar que el uso de una funcion de hash adecuada en la implementacion del hash map puede ayudar a minimizar el tiempo de acceso a los elementos almacenados. Pudimos buscar y recuperar los datos de manera rapida.\n",
    "\n",
    "Por ultimo comprendimos mejor la estructura de datos, hash map, ya que pudimos organizar y almacenar de mejor manera los datos en la memoria. Ademas de esto, logramos que el hash map funcionara de manera correcta y eficiente, lo cual nos permitio mejorar nuestro conocimiento sobre las estructuras de datos y su aplicacion en proyectos de programacion."
   ]
  }
 ],
 "metadata": {
  "language_info": {
   "name": "python"
  },
  "orig_nbformat": 4
 },
 "nbformat": 4,
 "nbformat_minor": 2
}
