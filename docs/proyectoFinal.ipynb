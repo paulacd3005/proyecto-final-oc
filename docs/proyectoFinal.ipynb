{
 "cells": [
  {
   "attachments": {},
   "cell_type": "markdown",
   "metadata": {},
   "source": [
    "# Proyecto Final \n",
    "\n",
    "### Integrantes:\n",
    "\n",
    "- Paula Campaña Donoso: 00215572\n",
    "- Nicolas Moina: 00321192\n",
    "- Alex Perez: 00329229\n",
    "- Sebastian Navarro: 00321588"
   ]
  },
  {
   "attachments": {},
   "cell_type": "markdown",
   "metadata": {},
   "source": [
    "### Introducción\n",
    "\n",
    "El objetivo del proyecto es implementar una estructura de datos conocida como Hash maps para el conteo de palabras en un extracto de texto, con el fin de desarrollar una solución eficiente y escalable para el análisis de texto y la frecuencia de las palabras. Para lograr esto, se utilizará un programa de ensamblador en el lenguaje MIPS para implementar un Hash map, una estructura de datos que permitirá realizar la clasificación y el conteo de las palabras de manera rápida y eficiente donde la clave será la palabra y el valor la frecuencia.\n",
    "\n",
    "El proyecto incluirá el manejo de colisiones y una gestión adecuada de la memoria, utilizando técnicas de optimización de código y siguiendo las mejores prácticas de programación en ensamblador MIPS para garantizar un rendimiento eficiente y una gestión adecuada de los recursos del sistema.\n",
    "\n",
    "Se realizarán pruebas exhaustivas para asegurar la correcta funcionalidad del Hash map en diferentes escenarios. El resultado final del proyecto será un programa de ensamblador MIPS que implemente un Hash map eficiente para el conteo de palabras en una estracto de texto. Esta implementación proporcionará una herramienta útil y eficiente para el análisis de texto."
   ]
  },
  {
   "attachments": {},
   "cell_type": "markdown",
   "metadata": {},
   "source": [
    "### Codigo en Assembly\n"
   ]
  },
  {
   "attachments": {},
   "cell_type": "markdown",
   "metadata": {},
   "source": [
    "### Conclusion "
   ]
  }
 ],
 "metadata": {
  "language_info": {
   "name": "python"
  },
  "orig_nbformat": 4
 },
 "nbformat": 4,
 "nbformat_minor": 2
}
